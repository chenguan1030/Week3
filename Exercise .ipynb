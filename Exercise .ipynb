{
 "cells": [
  {
   "cell_type": "code",
   "execution_count": 1,
   "id": "96754fc8",
   "metadata": {},
   "outputs": [],
   "source": [
    "fruits = ['apple','orange','banana','durian']"
   ]
  },
  {
   "cell_type": "markdown",
   "id": "d94b710a",
   "metadata": {},
   "source": [
    "# Use for loop to find a given fruit name in the list"
   ]
  },
  {
   "cell_type": "code",
   "execution_count": 14,
   "id": "bc48c808",
   "metadata": {},
   "outputs": [
    {
     "name": "stdout",
     "output_type": "stream",
     "text": [
      "The item apple is in the list at index  1\n",
      "The fruit name is apple at index: 1\n",
      "The fruit name is orange at index: 2\n",
      "The fruit name is banana at index: 3\n",
      "The fruit name is durian at index: 4\n"
     ]
    }
   ],
   "source": [
    "index = 1\n",
    "for fruit in fruits:\n",
    "    if 'apple' == fruit:\n",
    "        print('The item apple is in the list at index ',index)\n",
    "    print(\"The fruit name is \" + fruit + \" at index:\" ,index)\n",
    "    index = index + 1"
   ]
  },
  {
   "cell_type": "code",
   "execution_count": 3,
   "id": "aa7074f9",
   "metadata": {},
   "outputs": [
    {
     "data": {
      "text/plain": [
       "list"
      ]
     },
     "execution_count": 3,
     "metadata": {},
     "output_type": "execute_result"
    }
   ],
   "source": [
    "type(fruits)"
   ]
  },
  {
   "cell_type": "code",
   "execution_count": 15,
   "id": "51995ad6",
   "metadata": {},
   "outputs": [
    {
     "name": "stdout",
     "output_type": "stream",
     "text": [
      "8.0\n"
     ]
    }
   ],
   "source": [
    "import math\n",
    "\n",
    "print(math.(2,3))"
   ]
  },
  {
   "cell_type": "code",
   "execution_count": null,
   "id": "50c33838",
   "metadata": {},
   "outputs": [],
   "source": []
  }
 ],
 "metadata": {
  "kernelspec": {
   "display_name": "Python 3 (ipykernel)",
   "language": "python",
   "name": "python3"
  },
  "language_info": {
   "codemirror_mode": {
    "name": "ipython",
    "version": 3
   },
   "file_extension": ".py",
   "mimetype": "text/x-python",
   "name": "python",
   "nbconvert_exporter": "python",
   "pygments_lexer": "ipython3",
   "version": "3.11.5"
  }
 },
 "nbformat": 4,
 "nbformat_minor": 5
}
